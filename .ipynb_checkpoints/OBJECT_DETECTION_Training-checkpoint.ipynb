{
 "cells": [
  {
   "cell_type": "code",
   "execution_count": 24,
   "id": "a7b71027-cd6b-4814-89a8-02b3ec9b8421",
   "metadata": {},
   "outputs": [
    {
     "name": "stdout",
     "output_type": "stream",
     "text": [
      "✅ Image saved as 'labeled_output.jpg'\n"
     ]
    }
   ],
   "source": [
    "import cv2\n",
    "\n",
    "# 📌 Step 1: Define Class Names\n",
    "class_names = [\n",
    "    \"dog\", \"person\", \"cat\", \"tv\", \"car\",\n",
    "    \"meatballs\", \"marinara sauce\", \"tomato soup\", \"chicken noodle soup\", \"french onion soup\",\n",
    "    \"chicken breast\", \"ribs\", \"pulled pork\", \"hamburger\", \"cavity\",\n",
    "    \"payee\", \"amount_in_words\", \"amount_in_numbers\", \"date\",\"bank_name\" ,\"signature\"\n",
    "]\n",
    "\n",
    "# 📌 Step 2: Load the Image\n",
    "image_path = \"output.jpg\"  # Replace with your actual image path\n",
    "image = cv2.imread(image_path)\n",
    "\n",
    "if image is None:\n",
    "    print(\"❌ Error: Image not found!\")\n",
    "    exit()\n",
    "\n",
    "h, w, _ = image.shape  # Get image dimensions\n",
    "\n",
    "# 📌 Step 3: Define YOLO Format Bounding Boxes (Replace with actual label file content)\n",
    "labels = [\n",
    "    (15, 0.426216, 0.248378, 0.707822, 0.100093),\n",
    "    (16, 0.409091, 0.358202, 0.640592, 0.119555),\n",
    "    (17, 0.834249, 0.417516, 0.172516, 0.099166),\n",
    "    (18, 0.171459, 0.070899, 0.144186, 0.062095),\n",
    "    (19, 0.866808, 0.111214, 0.204651, 0.057461),\n",
    "    (20, 0.917125, 0.708063, 0.106554, 0.126043)\n",
    "]\n",
    "\n",
    "# 📌 Step 4: Draw Bounding Boxes\n",
    "for label in labels:\n",
    "    class_id, x_center, y_center, width, height = label\n",
    "    x1 = int((x_center - width / 2) * w)\n",
    "    y1 = int((y_center - height / 2) * h)\n",
    "    x2 = int((x_center + width / 2) * w)\n",
    "    y2 = int((y_center + height / 2) * h)\n",
    "    \n",
    "    color = (0, 255, 0)  # Green color for boxes\n",
    "    cv2.rectangle(image, (x1, y1), (x2, y2), color, 2)\n",
    "    \n",
    "    # Add label text\n",
    "    label_text = f\"{class_names[class_id]}\"\n",
    "    cv2.putText(image, label_text, (x1, y1 - 5), cv2.FONT_HERSHEY_SIMPLEX, 0.5, color, 2)\n",
    "\n",
    "# 📌 Step 5: Save the Image\n",
    "cv2.imwrite(\"labeled_output.jpg\", image)\n",
    "print(\"✅ Image saved as 'labeled_output.jpg'\")\n"
   ]
  },
  {
   "cell_type": "code",
   "execution_count": null,
   "id": "9229a103-ca61-4901-bc58-08d8cea6fcde",
   "metadata": {},
   "outputs": [],
   "source": []
  }
 ],
 "metadata": {
  "kernelspec": {
   "display_name": "Python 3 (ipykernel)",
   "language": "python",
   "name": "python3"
  },
  "language_info": {
   "codemirror_mode": {
    "name": "ipython",
    "version": 3
   },
   "file_extension": ".py",
   "mimetype": "text/x-python",
   "name": "python",
   "nbconvert_exporter": "python",
   "pygments_lexer": "ipython3",
   "version": "3.13.2"
  }
 },
 "nbformat": 4,
 "nbformat_minor": 5
}
